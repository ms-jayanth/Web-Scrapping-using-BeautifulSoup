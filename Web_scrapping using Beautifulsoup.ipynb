{
 "cells": [
  {
   "cell_type": "markdown",
   "id": "23c7b8d7",
   "metadata": {},
   "source": [
    "## Extracting Reviews from Amazon Website - BeautifulSoup"
   ]
  },
  {
   "attachments": {
    "aaa.jpg": {
     "image/jpeg": "[encoded data removed]"
    }
   },
   "cell_type": "markdown",
   "id": "0e9f7c11",
   "metadata": {},
   "source": [
    "#### We have extracted the reviews of Alexa-Echo_Dot\n",
    "\n",
    "![aaa.jpg](attachment:aaa.jpg)"
   ]
  },
  {
   "cell_type": "markdown",
   "id": "38819394",
   "metadata": {},
   "source": [
    "### Import Libraries"
   ]
  },
  {
   "cell_type": "code",
   "execution_count": 1,
   "id": "ccc7e464",
   "metadata": {},
   "outputs": [],
   "source": [
    "import requests\n",
    "from bs4 import BeautifulSoup\n",
    "\n",
    "import pandas as pd"
   ]
  },
  {
   "cell_type": "markdown",
   "id": "acb1c970",
   "metadata": {},
   "source": [
    "### Connect to Website"
   ]
  },
  {
   "cell_type": "code",
   "execution_count": 2,
   "id": "f0f87a14",
   "metadata": {},
   "outputs": [],
   "source": [
    "url='https://www.amazon.in/Echo-Dot-3rd-Gen/product-reviews/B07PFFMP9P/ref=cm_cr_dp_d_show_all_btm?ie=UTF8&reviewerType=all_reviews'"
   ]
  },
  {
   "cell_type": "code",
   "execution_count": 3,
   "id": "a1a7d1e5",
   "metadata": {},
   "outputs": [
    {
     "data": {
      "text/plain": [
       "<Response [200]>"
      ]
     },
     "execution_count": 3,
     "metadata": {},
     "output_type": "execute_result"
    }
   ],
   "source": [
    "page=requests.get(url)\n",
    "page"
   ]
  },
  {
   "cell_type": "code",
   "execution_count": 4,
   "id": "32985feb",
   "metadata": {},
   "outputs": [
    {
     "name": "stdout",
     "output_type": "stream",
     "text": [
      "Amazon.in:Customer reviews: Echo Dot (3rd Gen) – New and improved smart speaker with Alexa (Black)\n"
     ]
    }
   ],
   "source": [
    "soup=BeautifulSoup(page.text, 'html.parser')\n",
    "print(soup.title.text)"
   ]
  },
  {
   "cell_type": "markdown",
   "id": "2ed15d65",
   "metadata": {},
   "source": [
    "### Extracing the required data"
   ]
  },
  {
   "cell_type": "code",
   "execution_count": 5,
   "id": "863a8f48",
   "metadata": {},
   "outputs": [],
   "source": [
    "# Information will get by inspecting the web page\n",
    "reviews=soup.find_all('div',{'data-hook':'review'})"
   ]
  },
  {
   "cell_type": "code",
   "execution_count": 6,
   "id": "08cfb4d7",
   "metadata": {},
   "outputs": [],
   "source": [
    "review_ratings=[]\n",
    "for item in reviews:\n",
    "    customer=item.find('span', class_='a-profile-name').text.strip()\n",
    "    title=item.find('a',{'data-hook':'review-title'}).text.strip()\n",
    "    rating = float(item.find('i',{'data-hook':'review-star-rating'}).text.replace('out of 5 stars','').strip())\n",
    "    body = item.find('span',{'data-hook':'review-body'}).text.strip()\n",
    "    review = {'Customer_name':customer,'Highlight':title,'Ratings': rating, 'Description': body}\n",
    "    review_ratings.append(review)\n",
    "    "
   ]
  },
  {
   "cell_type": "code",
   "execution_count": 7,
   "id": "9dabb783",
   "metadata": {},
   "outputs": [
    {
     "data": {
      "text/html": [
       "<div>\n",
       "<style scoped>\n",
       "    .dataframe tbody tr th:only-of-type {\n",
       "        vertical-align: middle;\n",
       "    }\n",
       "\n",
       "    .dataframe tbody tr th {\n",
       "        vertical-align: top;\n",
       "    }\n",
       "\n",
       "    .dataframe thead th {\n",
       "        text-align: right;\n",
       "    }\n",
       "</style>\n",
       "<table border=\"1\" class=\"dataframe\">\n",
       "  <thead>\n",
       "    <tr style=\"text-align: right;\">\n",
       "      <th></th>\n",
       "      <th>Customer_name</th>\n",
       "      <th>Highlight</th>\n",
       "      <th>Ratings</th>\n",
       "      <th>Description</th>\n",
       "    </tr>\n",
       "  </thead>\n",
       "  <tbody>\n",
       "    <tr>\n",
       "      <th>0</th>\n",
       "      <td>Shilpa</td>\n",
       "      <td>Alexa cannot hear once she starts playing</td>\n",
       "      <td>1.0</td>\n",
       "      <td>The media could not be loaded.\\n              ...</td>\n",
       "    </tr>\n",
       "    <tr>\n",
       "      <th>1</th>\n",
       "      <td>Vikas Singh</td>\n",
       "      <td>Not that useful</td>\n",
       "      <td>3.0</td>\n",
       "      <td>I purchased this as a birthday gift for my 7 y...</td>\n",
       "    </tr>\n",
       "    <tr>\n",
       "      <th>2</th>\n",
       "      <td>Sumit</td>\n",
       "      <td>Echo Dot never plays original songs, (No way t...</td>\n",
       "      <td>1.0</td>\n",
       "      <td>The media could not be loaded.\\n              ...</td>\n",
       "    </tr>\n",
       "    <tr>\n",
       "      <th>3</th>\n",
       "      <td>Kumar Gautam</td>\n",
       "      <td>Not satisfied with the wipro smart bulb its no...</td>\n",
       "      <td>1.0</td>\n",
       "      <td>I bought this product to gift some one else an...</td>\n",
       "    </tr>\n",
       "    <tr>\n",
       "      <th>4</th>\n",
       "      <td>One of Amazon lover🎭</td>\n",
       "      <td>Good Alexa with 'incompatible' smart wipro💡</td>\n",
       "      <td>4.0</td>\n",
       "      <td>Alexa is very good but came with defective sma...</td>\n",
       "    </tr>\n",
       "    <tr>\n",
       "      <th>5</th>\n",
       "      <td>Amazon Customer</td>\n",
       "      <td>Super smart speaker 🔊👏🏻👌🏻👍🏻</td>\n",
       "      <td>5.0</td>\n",
       "      <td>The media could not be loaded.\\n              ...</td>\n",
       "    </tr>\n",
       "    <tr>\n",
       "      <th>6</th>\n",
       "      <td>Bhuvan Luthra</td>\n",
       "      <td>Alexa a chinese agent</td>\n",
       "      <td>1.0</td>\n",
       "      <td>The media could not be loaded.\\n              ...</td>\n",
       "    </tr>\n",
       "    <tr>\n",
       "      <th>7</th>\n",
       "      <td>Monu</td>\n",
       "      <td>Very good product</td>\n",
       "      <td>5.0</td>\n",
       "      <td>Bhut hi Achha hai aur bhut achhe se kam karta hai</td>\n",
       "    </tr>\n",
       "    <tr>\n",
       "      <th>8</th>\n",
       "      <td>Thakur Ankur Kumar Pratap singh</td>\n",
       "      <td>I recommend one more accessory</td>\n",
       "      <td>5.0</td>\n",
       "      <td>Its just one if the best deal i ever got on am...</td>\n",
       "    </tr>\n",
       "    <tr>\n",
       "      <th>9</th>\n",
       "      <td>Akash singh nishad</td>\n",
       "      <td>No warranty should be given to you so be alert...</td>\n",
       "      <td>1.0</td>\n",
       "      <td>The media could not be loaded.\\n              ...</td>\n",
       "    </tr>\n",
       "  </tbody>\n",
       "</table>\n",
       "</div>"
      ],
      "text/plain": [
       "                     Customer_name  \\\n",
       "0                           Shilpa   \n",
       "1                      Vikas Singh   \n",
       "2                            Sumit   \n",
       "3                     Kumar Gautam   \n",
       "4             One of Amazon lover🎭   \n",
       "5                  Amazon Customer   \n",
       "6                    Bhuvan Luthra   \n",
       "7                             Monu   \n",
       "8  Thakur Ankur Kumar Pratap singh   \n",
       "9               Akash singh nishad   \n",
       "\n",
       "                                           Highlight  Ratings  \\\n",
       "0          Alexa cannot hear once she starts playing      1.0   \n",
       "1                                    Not that useful      3.0   \n",
       "2  Echo Dot never plays original songs, (No way t...      1.0   \n",
       "3  Not satisfied with the wipro smart bulb its no...      1.0   \n",
       "4        Good Alexa with 'incompatible' smart wipro💡      4.0   \n",
       "5                        Super smart speaker 🔊👏🏻👌🏻👍🏻      5.0   \n",
       "6                              Alexa a chinese agent      1.0   \n",
       "7                                  Very good product      5.0   \n",
       "8                     I recommend one more accessory      5.0   \n",
       "9  No warranty should be given to you so be alert...      1.0   \n",
       "\n",
       "                                         Description  \n",
       "0  The media could not be loaded.\\n              ...  \n",
       "1  I purchased this as a birthday gift for my 7 y...  \n",
       "2  The media could not be loaded.\\n              ...  \n",
       "3  I bought this product to gift some one else an...  \n",
       "4  Alexa is very good but came with defective sma...  \n",
       "5  The media could not be loaded.\\n              ...  \n",
       "6  The media could not be loaded.\\n              ...  \n",
       "7  Bhut hi Achha hai aur bhut achhe se kam karta hai  \n",
       "8  Its just one if the best deal i ever got on am...  \n",
       "9  The media could not be loaded.\\n              ...  "
      ]
     },
     "execution_count": 7,
     "metadata": {},
     "output_type": "execute_result"
    }
   ],
   "source": [
    "web_data=pd.DataFrame(review_ratings)\n",
    "web_data"
   ]
  },
  {
   "cell_type": "markdown",
   "id": "ee347b06",
   "metadata": {},
   "source": [
    "### Scrapping data from Multiple pages"
   ]
  },
  {
   "cell_type": "code",
   "execution_count": 8,
   "id": "b0d11624",
   "metadata": {},
   "outputs": [],
   "source": [
    "reviews_ratings = []\n",
    "for j in range(1, 21):\n",
    "    link = 'https://www.amazon.in/Echo-Dot-3rd-Gen/product-reviews/B07PFFMP9P/ref=cm_cr_arp_d_paging_btm_next_2?ie=UTF8&reviewerType=all_reviews&pageNumber='\n",
    "    page = requests.get(link + str(j))\n",
    "    soup = BeautifulSoup(page.content, 'html.parser')\n",
    "    lists = soup.find_all('div', {'data-hook':'review'})\n",
    "\n",
    "    for i in lists:\n",
    "        customer=i.find('span', class_='a-profile-name').text.strip()\n",
    "        title=i.find('a',{'data-hook':'review-title'}).text.strip()\n",
    "        review = i.find('span',{'data-hook':'review-body'}).text.strip()\n",
    "        rating = float(i.find('i',{'data-hook':'review-star-rating'}).text.replace('out of 5 stars','').strip())\n",
    "        info = {'Customer_name':customer,'Highlight':title,'Ratings': rating, 'Description': review}\n",
    "        reviews_ratings.append(info)\n",
    "\n",
    "df_info=pd.DataFrame(reviews_ratings)"
   ]
  },
  {
   "cell_type": "code",
   "execution_count": 9,
   "id": "f95dd052",
   "metadata": {},
   "outputs": [
    {
     "data": {
      "text/html": [
       "<div>\n",
       "<style scoped>\n",
       "    .dataframe tbody tr th:only-of-type {\n",
       "        vertical-align: middle;\n",
       "    }\n",
       "\n",
       "    .dataframe tbody tr th {\n",
       "        vertical-align: top;\n",
       "    }\n",
       "\n",
       "    .dataframe thead th {\n",
       "        text-align: right;\n",
       "    }\n",
       "</style>\n",
       "<table border=\"1\" class=\"dataframe\">\n",
       "  <thead>\n",
       "    <tr style=\"text-align: right;\">\n",
       "      <th></th>\n",
       "      <th>Customer_name</th>\n",
       "      <th>Highlight</th>\n",
       "      <th>Ratings</th>\n",
       "      <th>Description</th>\n",
       "    </tr>\n",
       "  </thead>\n",
       "  <tbody>\n",
       "    <tr>\n",
       "      <th>0</th>\n",
       "      <td>Shilpa</td>\n",
       "      <td>Alexa cannot hear once she starts playing</td>\n",
       "      <td>1.0</td>\n",
       "      <td>The media could not be loaded.\\n              ...</td>\n",
       "    </tr>\n",
       "    <tr>\n",
       "      <th>1</th>\n",
       "      <td>Vikas Singh</td>\n",
       "      <td>Not that useful</td>\n",
       "      <td>3.0</td>\n",
       "      <td>I purchased this as a birthday gift for my 7 y...</td>\n",
       "    </tr>\n",
       "    <tr>\n",
       "      <th>2</th>\n",
       "      <td>Sumit</td>\n",
       "      <td>Echo Dot never plays original songs, (No way t...</td>\n",
       "      <td>1.0</td>\n",
       "      <td>The media could not be loaded.\\n              ...</td>\n",
       "    </tr>\n",
       "    <tr>\n",
       "      <th>3</th>\n",
       "      <td>Kumar Gautam</td>\n",
       "      <td>Not satisfied with the wipro smart bulb its no...</td>\n",
       "      <td>1.0</td>\n",
       "      <td>I bought this product to gift some one else an...</td>\n",
       "    </tr>\n",
       "    <tr>\n",
       "      <th>4</th>\n",
       "      <td>One of Amazon lover🎭</td>\n",
       "      <td>Good Alexa with 'incompatible' smart wipro💡</td>\n",
       "      <td>4.0</td>\n",
       "      <td>Alexa is very good but came with defective sma...</td>\n",
       "    </tr>\n",
       "    <tr>\n",
       "      <th>...</th>\n",
       "      <td>...</td>\n",
       "      <td>...</td>\n",
       "      <td>...</td>\n",
       "      <td>...</td>\n",
       "    </tr>\n",
       "    <tr>\n",
       "      <th>175</th>\n",
       "      <td>RAJAGOPAL</td>\n",
       "      <td>Good hardware but poor software</td>\n",
       "      <td>5.0</td>\n",
       "      <td>Its one of the finest smart speaker in indian ...</td>\n",
       "    </tr>\n",
       "    <tr>\n",
       "      <th>176</th>\n",
       "      <td>Brijesh Maurya</td>\n",
       "      <td>Dont expect it to do wonders, its needs a othe...</td>\n",
       "      <td>3.0</td>\n",
       "      <td>Well, good for kids but for the most part AI n...</td>\n",
       "    </tr>\n",
       "    <tr>\n",
       "      <th>177</th>\n",
       "      <td>Ramesh Adhavaraju</td>\n",
       "      <td>Good product, value for money</td>\n",
       "      <td>5.0</td>\n",
       "      <td>Product is good, after using for a month, felt...</td>\n",
       "    </tr>\n",
       "    <tr>\n",
       "      <th>178</th>\n",
       "      <td>Shaik shafi</td>\n",
       "      <td>Don't respond to commands even buttons not wor...</td>\n",
       "      <td>1.0</td>\n",
       "      <td>I bought it 2 days backI turn off charging dur...</td>\n",
       "    </tr>\n",
       "    <tr>\n",
       "      <th>179</th>\n",
       "      <td>Nitin K</td>\n",
       "      <td>Good toy for kids</td>\n",
       "      <td>4.0</td>\n",
       "      <td>All is good with this device, don't understand...</td>\n",
       "    </tr>\n",
       "  </tbody>\n",
       "</table>\n",
       "<p>180 rows × 4 columns</p>\n",
       "</div>"
      ],
      "text/plain": [
       "            Customer_name                                          Highlight  \\\n",
       "0                  Shilpa          Alexa cannot hear once she starts playing   \n",
       "1             Vikas Singh                                    Not that useful   \n",
       "2                   Sumit  Echo Dot never plays original songs, (No way t...   \n",
       "3            Kumar Gautam  Not satisfied with the wipro smart bulb its no...   \n",
       "4    One of Amazon lover🎭        Good Alexa with 'incompatible' smart wipro💡   \n",
       "..                    ...                                                ...   \n",
       "175             RAJAGOPAL                    Good hardware but poor software   \n",
       "176        Brijesh Maurya  Dont expect it to do wonders, its needs a othe...   \n",
       "177     Ramesh Adhavaraju                      Good product, value for money   \n",
       "178           Shaik shafi  Don't respond to commands even buttons not wor...   \n",
       "179               Nitin K                                  Good toy for kids   \n",
       "\n",
       "     Ratings                                        Description  \n",
       "0        1.0  The media could not be loaded.\\n              ...  \n",
       "1        3.0  I purchased this as a birthday gift for my 7 y...  \n",
       "2        1.0  The media could not be loaded.\\n              ...  \n",
       "3        1.0  I bought this product to gift some one else an...  \n",
       "4        4.0  Alexa is very good but came with defective sma...  \n",
       "..       ...                                                ...  \n",
       "175      5.0  Its one of the finest smart speaker in indian ...  \n",
       "176      3.0  Well, good for kids but for the most part AI n...  \n",
       "177      5.0  Product is good, after using for a month, felt...  \n",
       "178      1.0  I bought it 2 days backI turn off charging dur...  \n",
       "179      4.0  All is good with this device, don't understand...  \n",
       "\n",
       "[180 rows x 4 columns]"
      ]
     },
     "execution_count": 9,
     "metadata": {},
     "output_type": "execute_result"
    }
   ],
   "source": [
    "df_info"
   ]
  },
  {
   "cell_type": "markdown",
   "id": "4f341d0d",
   "metadata": {},
   "source": [
    "### Saving to CSV file"
   ]
  },
  {
   "cell_type": "code",
   "execution_count": 10,
   "id": "40766d24",
   "metadata": {},
   "outputs": [],
   "source": [
    "df_info.to_csv('Amazon_reviews.csv')"
   ]
  }
 ],
 "metadata": {
  "kernelspec": {
   "display_name": "Python 3",
   "language": "python",
   "name": "python3"
  },
  "language_info": {
   "codemirror_mode": {
    "name": "ipython",
    "version": 3
   },
   "file_extension": ".py",
   "mimetype": "text/x-python",
   "name": "python",
   "nbconvert_exporter": "python",
   "pygments_lexer": "ipython3",
   "version": "3.8.8"
  }
 },
 "nbformat": 4,
 "nbformat_minor": 5
}
